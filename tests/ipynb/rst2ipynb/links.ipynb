{
 "cells": [
  {
   "cell_type": "markdown",
   "metadata": {},
   "source": [
    "$$\n",
    "\\def\\CC{\\bf C}\n",
    "\\def\\QQ{\\bf Q}\n",
    "\\def\\RR{\\bf R}\n",
    "\\def\\ZZ{\\bf Z}\n",
    "\\def\\NN{\\bf N}\n",
    "$$\n",
    "# Links\n",
    "\n",
    "A link: [images](images.ipynb)\n",
    "\n",
    "rst2ipynb implements some very crude support for trivial cross references; the links below will point to $images.ipynb$, allowing at least to refer to other documents in the same directory without hardcoding the $.ipynb$ extension in the source file.\n",
    "\n",
    "-   [images](images.ipynb)\n",
    "-   [Les Images](images.ipynb)"
   ]
  }
 ],
 "metadata": {},
 "nbformat": 4,
 "nbformat_minor": 2
}
