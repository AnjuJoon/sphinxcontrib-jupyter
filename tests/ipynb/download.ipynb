{
 "cells": [
  {
   "cell_type": "markdown",
   "metadata": {},
   "source": [
    "Notebook created: 2018-11-06 16:39:20  \n",
    "Generated from: tests/download.rst  "
   ]
  },
  {
   "cell_type": "markdown",
   "metadata": {},
   "source": [
    "# Download\n",
    "\n",
    "Add test for download directive <a href=_static/test_pwt.csv download>here</a>"
   ]
  }
 ],
 "metadata": {
  "filename": "download.rst",
  "kernelspec": {
   "display_name": "Python",
   "language": "python3",
   "name": "python3"
  },
  "title": "Download"
 },
 "nbformat": 4,
 "nbformat_minor": 2
}