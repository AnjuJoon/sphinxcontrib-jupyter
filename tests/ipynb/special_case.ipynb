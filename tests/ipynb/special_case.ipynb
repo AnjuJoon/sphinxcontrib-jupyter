{
 "cells": [
  {
   "cell_type": "markdown",
   "metadata": {},
   "source": [
    "# Special Cases"
   ]
  },
  {
   "cell_type": "markdown",
   "metadata": {},
   "source": [
    "## Use of \\$ in Text\n",
    "\n",
    "test1: \\\\$1 today vs. \\\\$1 next year\n",
    "\n",
    "test2: \\$1 today vs. \\$1 next year\n",
    "\n",
    "test3: \\$1 today vs. \\$1 next year\n",
    "\n",
    "test4: \\\\$1 today vs. \\\\$1 next year"
   ]
  }
 ],
 "metadata": {
  "filename": "special_case.rst",
  "kernelspec": {
   "display_name": "Python",
   "language": "python3",
   "name": "python3"
  },
  "title": "Special Cases"
 },
 "nbformat": 4,
 "nbformat_minor": 2
}