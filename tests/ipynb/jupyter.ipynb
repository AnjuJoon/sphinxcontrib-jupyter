{
 "cells": [
  {
   "cell_type": "markdown",
   "metadata": {},
   "source": [
    "# Jupyter Directive\n",
    "\n",
    "This is a set of tests related to the Jupyter directive\n",
    "\n",
    "The following jupyter directive with cell-break option should\n",
    "split this text and the text that follows into different IN\n",
    "blocks in the notebook\n",
    "\n",
    "This text should follow in a separate cell."
   ]
  },
  {
   "cell_type": "markdown",
   "metadata": {},
   "source": [
    "## Output Cells\n",
    "\n",
    "The following code block should have an output block"
   ]
  },
  {
   "cell_type": "code",
   "execution_count": null,
   "metadata": {},
   "outputs": [],
   "source": [
    "import numpy as np"
   ]
  },
  {
   "cell_type": "markdown",
   "metadata": {},
   "source": [
    "``"
   ]
  }
 ],
 "metadata": {
  "filename": "jupyter.rst",
  "kernelspec": {
   "display_name": "Python",
   "language": "python3",
   "name": "python3"
  },
  "title": "Jupyter Directive"
 },
 "nbformat": 4,
 "nbformat_minor": 2
}