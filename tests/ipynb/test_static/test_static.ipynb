{
 "cells": [
  {
   "cell_type": "markdown",
   "metadata": {},
   "source": [
    "# Test for Static folders\n",
    "\n",
    "This option requires that each .rst that contains some static files (images for example)\n",
    "has to be inside their own folders, with a subfolder _static. The name of the folder has\n",
    "to be included in the conf.py as follows\n",
    "\n",
    "Include in *folders* the name of each one of the lecture folders"
   ]
  },
  {
   "cell_type": "code",
   "execution_count": null,
   "metadata": {},
   "outputs": [],
   "source": [
    "folders =  [\"Lecture_1\", \"Lecture_2\", \"Lecture_3\"]"
   ]
  },
  {
   "cell_type": "markdown",
   "metadata": {},
   "source": [
    "The builder wil take this folder structure and it will be replicated in\n",
    "_build/jupyter, where each notebook will have their own folder with the\n",
    "respective static files, but also preserving a global _static for the\n",
    "files that were not included in *folders*"
   ]
  },
  {
   "cell_type": "markdown",
   "metadata": {},
   "source": [
    "## Image\n",
    "\n",
    "<img src=\"_static/hood.jpg\" style=\"\">"
   ]
  }
 ],
 "metadata": {
  "filename": "test_static.rst",
  "kernelspec": {
   "display_name": "Python",
   "language": "python3",
   "name": "python3"
  },
  "title": "Test for Static folders"
 },
 "nbformat": 4,
 "nbformat_minor": 2
}