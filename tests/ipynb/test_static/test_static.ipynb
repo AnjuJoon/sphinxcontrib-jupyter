{
 "cells": [
  {
   "cell_type": "markdown",
   "metadata": {},
   "source": [
    "# Test for Static folders\n",
    "\n",
    "This option requires that each .rst that contains some static files (images for example)\n",
    "has to be inside their own folders, with a subfolder _static.\n",
    "\n",
    "The builder wil recognise this folder structure and it will be replicated in\n",
    "_build/jupyter, where each notebook will have their own folder with the\n",
    "respective static files, but also preserving a global _static"
   ]
  },
  {
   "cell_type": "markdown",
   "metadata": {},
   "source": [
    "## Image\n",
    "\n",
    "<img src=\"images/hood.jpg\" style=\"\">"
   ]
  }
 ],
 "metadata": {
  "filename": "test_static.rst",
  "kernelspec": {
   "display_name": "Python",
   "language": "python3",
   "name": "python3"
  },
  "title": "Test for Static folders"
 },
 "nbformat": 4,
 "nbformat_minor": 2
}