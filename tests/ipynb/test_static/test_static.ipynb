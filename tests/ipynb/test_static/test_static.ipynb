{
 "cells": [
  {
   "cell_type": "markdown",
   "metadata": {},
   "source": [
    "# Test for Static folders\n",
    "\n",
    "This option requires that each .rst that contains some static files (images for example)\n",
    "has to be inside their own folders, with a subfolder _static. The name of the folder has\n",
    "to be included in the conf.py as follows\n",
    "\n",
    "# Include in folders the name of each one of the lecture folders\n",
    "folders =  [“images”, “simple_notebook”, “test_static”]\n",
    "\n",
    "The builder wil take this folder structure and it will be replicated in\n",
    "_build/jupyter, where each notebook will have their own folder with the\n",
    "respective static files."
   ]
  },
  {
   "cell_type": "markdown",
   "metadata": {},
   "source": [
    "## Image\n",
    "\n",
    "<img src=\"test_static/_static/hood.jpg\" style=\"\">"
   ]
  }
 ],
 "metadata": {
  "filename": "test_static.rst",
  "kernelspec": {
   "display_name": "Python",
   "language": "python3",
   "name": "python3"
  },
  "title": "Test for Static folders"
 },
 "nbformat": 4,
 "nbformat_minor": 2
}