{
 "cells": [
  {
   "cell_type": "markdown",
   "metadata": {},
   "source": [
    "Notebook created: 2018-11-06 16:39:20  \n",
    "Generated from: tests/links_target.rst  "
   ]
  },
  {
   "cell_type": "markdown",
   "metadata": {},
   "source": [
    "\n",
    "<a id='links-target'></a>"
   ]
  },
  {
   "cell_type": "markdown",
   "metadata": {},
   "source": [
    "# Links Target\n",
    "\n",
    "This is a simple file that is linked to by [links.rst](links.ipynb#links)"
   ]
  }
 ],
 "metadata": {
  "filename": "links_target.rst",
  "kernelspec": {
   "display_name": "Python",
   "language": "python3",
   "name": "python3"
  },
  "title": "Links Target"
 },
 "nbformat": 4,
 "nbformat_minor": 2
}