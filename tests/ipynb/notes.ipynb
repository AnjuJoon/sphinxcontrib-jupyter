{
 "cells": [
  {
   "cell_type": "markdown",
   "metadata": {},
   "source": [
    "Notebook created: 2018-10-26 16:38:16  \n",
    "Generated from: tests/notes.rst  "
   ]
  },
  {
   "cell_type": "markdown",
   "metadata": {},
   "source": [
    "# Notes\n",
    "\n",
    "This is a simple notebook to test the use of notes in RST\n",
    "\n",
    ">**Note**\n",
    ">\n",
    ">This is a note that has some *italic* and **bold** embedded\n",
    "\n",
    "here is some text\n",
    "\n",
    ">**Note**\n",
    ">\n",
    ">and another note"
   ]
  }
 ],
 "metadata": {
  "filename": "notes.rst",
  "kernelspec": {
   "display_name": "Python",
   "language": "python3",
   "name": "python3"
  },
  "title": "Notes"
 },
 "nbformat": 4,
 "nbformat_minor": 2
}